{
  "cells": [
    {
      "cell_type": "markdown",
      "metadata": {
        "id": "view-in-github",
        "colab_type": "text"
      },
      "source": [
        "<a href=\"https://colab.research.google.com/github/KishoreDuvvi/python/blob/main/Code_Duvvi_SatyaKishoreReddy.ipynb\" target=\"_parent\"><img src=\"https://colab.research.google.com/assets/colab-badge.svg\" alt=\"Open In Colab\"/></a>"
      ]
    },
    {
      "cell_type": "code",
      "execution_count": null,
      "metadata": {
        "colab": {
          "base_uri": "https://localhost:8080/"
        },
        "id": "pAc4hjliudgp",
        "outputId": "1cdc7fd1-fef2-40da-a30f-5c88273d1b99"
      },
      "outputs": [
        {
          "name": "stdout",
          "output_type": "stream",
          "text": [
            "<class 'pandas.core.frame.DataFrame'>\n",
            "RangeIndex: 6237 entries, 0 to 6236\n",
            "Data columns (total 16 columns):\n",
            " #   Column                    Non-Null Count  Dtype  \n",
            "---  ------                    --------------  -----  \n",
            " 0   Attrition_Flag            6237 non-null   int64  \n",
            " 1   Customer_Age              6237 non-null   int64  \n",
            " 2   Gender                    6237 non-null   int64  \n",
            " 3   Dependent_count           6237 non-null   int64  \n",
            " 4   Education_Level           6237 non-null   object \n",
            " 5   Marital_Status            6237 non-null   object \n",
            " 6   Income_Category           6237 non-null   object \n",
            " 7   Card_Category             6237 non-null   object \n",
            " 8   Months_on_book            6237 non-null   int64  \n",
            " 9   Total_Relationship_Count  6237 non-null   int64  \n",
            " 10  Months_Inactive           6237 non-null   int64  \n",
            " 11  Contacts_Count            6237 non-null   int64  \n",
            " 12  Credit_Limit              6237 non-null   float64\n",
            " 13  Total_Revolving_Bal       6237 non-null   int64  \n",
            " 14  Total_Trans_Amt           6237 non-null   int64  \n",
            " 15  Total_Trans_Ct            6237 non-null   int64  \n",
            "dtypes: float64(1), int64(11), object(4)\n",
            "memory usage: 779.8+ KB\n",
            "None\n"
          ]
        }
      ],
      "source": [
        "from pandas import read_csv, get_dummies, Series\n",
        "from sklearn.preprocessing import StandardScaler\n",
        "from sklearn.model_selection import train_test_split\n",
        "from imblearn.over_sampling import SMOTE\n",
        "\n",
        "\n",
        "\n",
        "data = read_csv(\"/content/CustomerChurn.csv\")  # reading\n",
        "data['Gender'] = data['Gender'].map({'M': 1, 'F': 0})  # encoding\n",
        "data['Attrition_Flag'] = data['Attrition_Flag'].map({'Existing Customer': 1, 'Attrited Customer': 0}) \n",
        "\n",
        "\n",
        "data2 = get_dummies(data, columns=['Customer_Age', 'Dependent_count', 'Education_Level', 'Marital_Status', 'Income_Category','Card_Category', 'Months_on_book','Total_Relationship_Count', 'Months_Inactive', 'Contacts_Count','Credit_Limit','Total_Revolving_Bal','Total_Trans_Amt','Total_Trans_Ct'])  # encoding\n",
        "\n",
        "X = data2.drop('Attrition_Flag', axis=1)  # Features\n",
        "Y = data2['Attrition_Flag']  # Labels\n",
        "\n",
        "X_scaled = StandardScaler().fit_transform(X) # scaling\n",
        "X_train, X_test, Y_train, Y_test = train_test_split( X_scaled, Y, test_size = 0.3, random_state = 100)# splitting\n",
        "X_train,Y_train =SMOTE (random_state = 100).fit_resample(X_train,Y_train)# balancing\n",
        "#pd.DataFrame(X_train)\n",
        "print(data.info())"
      ]
    },
    {
      "cell_type": "code",
      "execution_count": null,
      "metadata": {
        "colab": {
          "base_uri": "https://localhost:8080/"
        },
        "id": "tto8a3eeiQPo",
        "outputId": "77ffd2e0-249a-45be-fa75-ea2f75cfb6f9"
      },
      "outputs": [
        {
          "name": "stdout",
          "output_type": "stream",
          "text": [
            "{'classification__max_depth': 4}\n",
            "0.8373287671232877\n"
          ]
        }
      ],
      "source": [
        "#using Grid Search for decision tree Classifier(method#3)\n",
        "from sklearn import tree\n",
        "from imblearn.pipeline import Pipeline\n",
        "from sklearn.model_selection import GridSearchCV\n",
        "#DT_classifier2 = tree.DecisionTreeClassifier(criterion = 'entropy') # building classfier\n",
        "DT_classifier2 = Pipeline([('balancing', SMOTE(random_state = 101)),('classification', tree.DecisionTreeClassifier(criterion = 'entropy') ) ]) # bulilding classifier\n",
        "depth = {'classification__max_depth': [2,3,4,5,10,15,20,25,30,35]}\n",
        "grid_search1 = GridSearchCV(estimator=DT_classifier2, param_grid=depth, scoring='recall', cv=4)\n",
        "grid_search1.fit(X_scaled, Y) # training & testing\n",
        "\n",
        "best_depth = grid_search1.best_params_\n",
        "print(best_depth)\n",
        "best_result = grid_search1.best_score_\n",
        "print(best_result)"
      ]
    },
    {
      "cell_type": "code",
      "execution_count": 21,
      "metadata": {
        "colab": {
          "base_uri": "https://localhost:8080/"
        },
        "id": "2I3OktZfZ2QB",
        "outputId": "476c8720-3c2a-4348-b9c8-ac8476315b12"
      },
      "outputs": [
        {
          "output_type": "stream",
          "name": "stdout",
          "text": [
            "Credit_Limit_1438.3      0.697930\n",
            "Total_Revolving_Bal_0    0.061888\n",
            "Months_Inactive_1        0.019898\n",
            "Total_Trans_Ct_44        0.016899\n",
            "Total_Trans_Ct_42        0.014735\n",
            "                           ...   \n",
            "Credit_Limit_12890.0     0.000000\n",
            "Credit_Limit_12893.0     0.000000\n",
            "Credit_Limit_12906.0     0.000000\n",
            "Credit_Limit_12933.0     0.000000\n",
            "Total_Trans_Ct_134       0.000000\n",
            "Length: 10155, dtype: float64\n"
          ]
        }
      ],
      "source": [
        "# Decision Tree Classifier (method#1)\n",
        "from sklearn import tree\n",
        "#from sklearn.tree import DecisionTreeClassifier as dt\n",
        "DT_classifier1 = tree.DecisionTreeClassifier(criterion = 'entropy', max_depth = 15)# classifier building \n",
        "m=DT_classifier1.fit(X_train, Y_train) # training \n",
        "Y_pred1 = m.predict(X_test) # testing \n",
        "Important_features = Series(DT_classifier1.feature_importances_, index=list(X)).sort_values(ascending=False) # what are the important features?\n",
        "print(Important_features)"
      ]
    },
    {
      "cell_type": "code",
      "execution_count": null,
      "metadata": {
        "colab": {
          "base_uri": "https://localhost:8080/"
        },
        "id": "QSIud371WDqp",
        "outputId": "5b86041e-5528-4fe3-f45f-ca5601565596"
      },
      "outputs": [
        {
          "name": "stdout",
          "output_type": "stream",
          "text": [
            "Accuracy:  0.8525641025641025\n",
            "[[  90  225]\n",
            " [  51 1506]]\n",
            "0.9672447013487476\n",
            "0.8700173310225303\n"
          ]
        }
      ],
      "source": [
        "# Acuracy and confusion matrix\n",
        "from sklearn import metrics\n",
        "Accuracy=metrics.accuracy_score(Y_test, Y_pred1) # calculating accuaracy \n",
        "print(\"Accuracy: \", Accuracy) # Is this a good metric??\n",
        "con_matrix = metrics.confusion_matrix(Y_test, Y_pred1)\n",
        "print (con_matrix)\n",
        "recall = metrics.recall_score(Y_test, Y_pred1)\n",
        "print (recall)\n",
        "percision=metrics.precision_score(Y_test, Y_pred1)\n",
        "print(percision)"
      ]
    },
    {
      "cell_type": "code",
      "execution_count": null,
      "metadata": {
        "colab": {
          "background_save": true
        },
        "id": "ojhU4BvQYjad",
        "outputId": "823f694f-93e5-45a7-f52e-1567b0c8ed8e"
      },
      "outputs": [
        {
          "name": "stdout",
          "output_type": "stream",
          "text": [
            "0.8373287671232877\n"
          ]
        }
      ],
      "source": [
        "# Support Vector Machine (SVM) Classifier (method 1)\n",
        "from sklearn import svm\n",
        "#import sklearn as sk\n",
        "SVM_classifier1 = svm.SVC(kernel='linear', random_state=0, )  # building classifier \n",
        "SVM_classifier1.fit(X_train, Y_train) # training \n",
        "Y_pred3= SVM_classifier1.predict(X_test)  #testing \n",
        "print(best_result)"
      ]
    }
  ],
  "metadata": {
    "colab": {
      "provenance": [],
      "authorship_tag": "ABX9TyMD16M34sMQJpdj4noyAwnx",
      "include_colab_link": true
    },
    "kernelspec": {
      "display_name": "Python 3",
      "name": "python3"
    },
    "language_info": {
      "name": "python"
    }
  },
  "nbformat": 4,
  "nbformat_minor": 0
}