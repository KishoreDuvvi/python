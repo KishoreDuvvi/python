{
  "cells": [
    {
      "cell_type": "markdown",
      "metadata": {
        "id": "view-in-github",
        "colab_type": "text"
      },
      "source": [
        "<a href=\"https://colab.research.google.com/github/KishoreDuvvi/python/blob/main/Final_CA_1_Applied_statistics.ipynb\" target=\"_parent\"><img src=\"https://colab.research.google.com/assets/colab-badge.svg\" alt=\"Open In Colab\"/></a>"
      ]
    },
    {
      "cell_type": "code",
      "execution_count": null,
      "metadata": {
        "colab": {
          "background_save": true
        },
        "id": "uCA-EdHKTwS8",
        "outputId": "68b8c2b2-067d-4824-ba0e-ef9375429fc5"
      },
      "outputs": [
        {
          "name": "stdout",
          "output_type": "stream",
          "text": [
            "Best Depth: {'classification__max_depth': 20}\n",
            "Best Result: 0.9998097412480974\n",
            "Important Features:\n",
            " Credit_Limit_1438.3          0.107849\n",
            "Total_Revolving_Bal_0        0.058447\n",
            "Customer_Age_46              0.030531\n",
            "Months_Inactive_1            0.029837\n",
            "Education_Level_Doctorate    0.028822\n",
            "                               ...   \n",
            "Credit_Limit_20176.0         0.000000\n",
            "Credit_Limit_20144.0         0.000000\n",
            "Credit_Limit_20117.0         0.000000\n",
            "Credit_Limit_20114.0         0.000000\n",
            "Total_Trans_Ct_134           0.000000\n",
            "Length: 10155, dtype: float64\n",
            "Accuracy: 0.8344017094017094\n",
            "Confusion Matrix:\n",
            " [[   6  309]\n",
            " [   1 1556]]\n",
            "Recall: 0.9993577392421323\n",
            "Precision: 0.8343163538873994\n"
          ]
        }
      ],
      "source": [
        "import pandas as pd\n",
        "from sklearn.preprocessing import StandardScaler\n",
        "from sklearn.model_selection import train_test_split\n",
        "from imblearn.over_sampling import SMOTE\n",
        "from sklearn.ensemble import RandomForestClassifier\n",
        "from imblearn.pipeline import Pipeline\n",
        "from sklearn.model_selection import GridSearchCV\n",
        "from sklearn import metrics\n",
        "from sklearn import svm\n",
        "\n",
        "# Data Preparation\n",
        "data = pd.read_csv(\"/content/CustomerChurn.csv\")\n",
        "data['Gender'] = data['Gender'].map({'M': 1, 'F': 0})\n",
        "data['Attrition_Flag'] = data['Attrition_Flag'].map({'Existing Customer': 1, 'Attrited Customer': 0})\n",
        "data2 = pd.get_dummies(data, columns=['Customer_Age', 'Dependent_count', 'Education_Level', 'Marital_Status',\n",
        "                                      'Income_Category', 'Card_Category', 'Months_on_book',\n",
        "                                      'Total_Relationship_Count', 'Months_Inactive', 'Contacts_Count',\n",
        "                                      'Credit_Limit', 'Total_Revolving_Bal', 'Total_Trans_Amt', 'Total_Trans_Ct'])\n",
        "X = data2.drop('Attrition_Flag', axis=1)\n",
        "Y = data2['Attrition_Flag']\n",
        "X_scaled = StandardScaler().fit_transform(X)\n",
        "X_train, X_test, Y_train, Y_test = train_test_split(X_scaled, Y, test_size=0.3, random_state=100)\n",
        "X_train, Y_train = SMOTE(random_state=100).fit_resample(X_train, Y_train)\n",
        "\n",
        "# Decision Tree Classifier with Grid Search (method #3)\n",
        "DT_classifier2 = Pipeline([\n",
        "    ('balancing', SMOTE(random_state=101)),\n",
        "    ('classification', RandomForestClassifier(n_estimators=100))\n",
        "])\n",
        "parameters = {'classification__max_depth': [2, 3, 4, 5, 10, 15, 20, 25, 30, 35]}\n",
        "grid_search1 = GridSearchCV(estimator=DT_classifier2, param_grid=parameters, scoring='recall', cv=4)\n",
        "grid_search1.fit(X_scaled, Y)\n",
        "best_depth = grid_search1.best_params_\n",
        "best_result = grid_search1.best_score_\n",
        "\n",
        "# Decision Tree Classifier (method #1)\n",
        "DT_classifier1 = RandomForestClassifier(n_estimators=100, max_depth=15)\n",
        "m = DT_classifier1.fit(X_train, Y_train)\n",
        "Y_pred1 = m.predict(X_test)\n",
        "important_features = pd.Series(DT_classifier1.feature_importances_, index=list(X)).sort_values(ascending=False)\n",
        "\n",
        "# Accuracy and Confusion Matrix\n",
        "accuracy = metrics.accuracy_score(Y_test, Y_pred1)\n",
        "con_matrix = metrics.confusion_matrix(Y_test, Y_pred1)\n",
        "recall = metrics.recall_score(Y_test, Y_pred1)\n",
        "precision = metrics.precision_score(Y_test, Y_pred1)\n",
        "\n",
        "# Support Vector Machine (SVM) Classifier (method #1)\n",
        "SVM_classifier1 = svm.SVC(kernel='linear', random_state=0)\n",
        "SVM_classifier1.fit(X_train, Y_train)\n",
        "Y_pred3 = SVM_classifier1.predict(X_test)\n",
        "\n",
        "# Print Results\n",
        "print(\"Best Depth:\", best_depth)\n",
        "print(\"Best Result:\", best_result)\n",
        "print(\"Important Features:\\n\", important_features)\n",
        "print(\"Accuracy:\", accuracy)\n",
        "print(\"Confusion Matrix:\\n\", con_matrix)\n",
        "print(\"Recall:\", recall)\n",
        "print(\"Precision:\", precision)\n",
        "\n"
      ]
    }
  ],
  "metadata": {
    "colab": {
      "provenance": [],
      "authorship_tag": "ABX9TyM0RLUaiyfse7sbP8xFLzCB",
      "include_colab_link": true
    },
    "kernelspec": {
      "display_name": "Python 3",
      "name": "python3"
    },
    "language_info": {
      "name": "python"
    }
  },
  "nbformat": 4,
  "nbformat_minor": 0
}